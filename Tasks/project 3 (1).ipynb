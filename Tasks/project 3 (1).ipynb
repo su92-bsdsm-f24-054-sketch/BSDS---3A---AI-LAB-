{
 "cells": [
  {
   "cell_type": "code",
   "execution_count": 2,
   "id": "1230a5da",
   "metadata": {},
   "outputs": [
    {
     "name": "stdout",
     "output_type": "stream",
     "text": [
      "Cycle 1\n",
      "Room1 Heater ON (Temp: 21 )\n",
      "Room2 Heater still OFF (Temp: 22 )\n",
      "Room3 Heater ON (Temp: 20 )\n",
      "\n",
      "Cycle 2\n",
      "Room1 Heater OFF (Temp: 22 )\n",
      "Room2 Heater ON (Temp: 21 )\n",
      "Room3 Heater OFF (Temp: 22 )\n",
      "\n",
      "Cycle 3\n",
      "Room1 Heater still OFF (Temp: 23 )\n",
      "Room2 Heater still ON (Temp: 20 )\n",
      "Room3 Heater still OFF (Temp: 24 )\n",
      "\n"
     ]
    }
   ],
   "source": [
    "\n",
    "class Room:\n",
    "    def __init__(self, name, temp):\n",
    "        self.name = name\n",
    "        self.temp = temp\n",
    "        self.heater = False\n",
    "        self.prev_heater = False\n",
    "\n",
    "def check_heater(room):\n",
    "    room.prev_heater = room.heater\n",
    "    if room.temp < 22:\n",
    "        if not room.prev_heater:\n",
    "            room.heater = True\n",
    "            print(room.name, \"Heater ON (Temp:\", room.temp, \")\")\n",
    "        else:\n",
    "            print(room.name, \"Heater still ON (Temp:\", room.temp, \")\")\n",
    "    else:\n",
    "        if room.prev_heater:\n",
    "            room.heater = False\n",
    "            print(room.name, \"Heater OFF (Temp:\", room.temp, \")\")\n",
    "        else:\n",
    "            print(room.name, \"Heater still OFF (Temp:\", room.temp, \")\")\n",
    "\n",
    "rooms = [\n",
    "    Room(\"Room1\", 21),\n",
    "    Room(\"Room2\", 22),\n",
    "    Room(\"Room3\", 20)\n",
    "]\n",
    "\n",
    "for cycle in range(3):\n",
    "    print(\"Cycle\", cycle+1)\n",
    "    for r in rooms:\n",
    "        check_heater(r)\n",
    "    rooms[0].temp += 1\n",
    "    rooms[1].temp -= 1\n",
    "    rooms[2].temp += 2\n",
    "    print()"
   ]
  }
 ],
 "metadata": {
  "kernelspec": {
   "display_name": "Python 3",
   "language": "python",
   "name": "python3"
  },
  "language_info": {
   "codemirror_mode": {
    "name": "ipython",
    "version": 3
   },
   "file_extension": ".py",
   "mimetype": "text/x-python",
   "name": "python",
   "nbconvert_exporter": "python",
   "pygments_lexer": "ipython3",
   "version": "3.13.3"
  }
 },
 "nbformat": 4,
 "nbformat_minor": 5
}
