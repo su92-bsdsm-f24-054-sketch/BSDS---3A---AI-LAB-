{
 "cells": [
  {
   "cell_type": "code",
   "execution_count": 3,
   "id": "4aa71bf2",
   "metadata": {},
   "outputs": [
    {
     "name": "stdout",
     "output_type": "stream",
     "text": [
      "Currently at: A\n",
      "Currently at: B\n",
      "Currently at: D\n",
      "Currently at: E\n",
      "Target node E has been found!\n",
      "Nodes visited in order: ['A', 'B', 'D', 'E']\n"
     ]
    }
   ],
   "source": [
    "# Graph ko dictionary ke form mein represent kar rahe hain\n",
    "graph_structure = {\n",
    "    'A': ['B', 'C'],\n",
    "    'B': ['D', 'E'],\n",
    "    'C': ['F'],\n",
    "    'D': [],\n",
    "    'E': [],\n",
    "    'F': ['G'],\n",
    "    'G': []\n",
    "}\n",
    "\n",
    "def depth_first_search(start_node, target_node):\n",
    "    visited_nodes = []\n",
    "    stack_nodes = [start_node]\n",
    "\n",
    "    while stack_nodes:\n",
    "        current_node = stack_nodes.pop()\n",
    "\n",
    "        if current_node not in visited_nodes:\n",
    "            visited_nodes.append(current_node)\n",
    "            print(\"Currently at:\", current_node)\n",
    "\n",
    "            if current_node == target_node:\n",
    "                print(\"Target node\", target_node, \"has been found!\")\n",
    "                return visited_nodes\n",
    "\n",
    "            # Stack is LIFO, so add children in reverse order for correct left-to-right traversal\n",
    "            children_nodes = graph_structure[current_node]\n",
    "            for child in children_nodes[::-1]:  # Using slicing for reversing\n",
    "                if child not in visited_nodes:\n",
    "                    stack_nodes.append(child)\n",
    "\n",
    "    print(\"Could not locate target node:\", target_node)\n",
    "    return visited_nodes\n",
    "\n",
    "\n",
    "# Function call example\n",
    "path_traversed = depth_first_search('A', 'E')\n",
    "print(\"Nodes visited in order:\", path_traversed)"
   ]
  }
 ],
 "metadata": {
  "kernelspec": {
   "display_name": "Python 3",
   "language": "python",
   "name": "python3"
  },
  "language_info": {
   "codemirror_mode": {
    "name": "ipython",
    "version": 3
   },
   "file_extension": ".py",
   "mimetype": "text/x-python",
   "name": "python",
   "nbconvert_exporter": "python",
   "pygments_lexer": "ipython3",
   "version": "3.13.3"
  }
 },
 "nbformat": 4,
 "nbformat_minor": 5
}
